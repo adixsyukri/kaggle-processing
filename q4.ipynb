{
 "cells": [
  {
   "cell_type": "code",
   "execution_count": 13,
   "metadata": {},
   "outputs": [],
   "source": [
    "import requests\n",
    "import numpy as np\n",
    "import pandas as pd\n",
    "import yaml\n",
    "from kaggle import Kaggle\n",
    "import zipfile\n",
    "from io import BytesIO\n",
    "import re"
   ]
  },
  {
   "cell_type": "code",
   "execution_count": 14,
   "metadata": {},
   "outputs": [],
   "source": [
    "def load_settings():\n",
    "    with open('config.yaml', 'r') as sf:\n",
    "        settings = yaml.load(sf.read())\n",
    "    return settings"
   ]
  },
  {
   "cell_type": "code",
   "execution_count": 15,
   "metadata": {},
   "outputs": [],
   "source": [
    "# Download dataset process\n",
    "DATA_URL = \"https://www.kaggle.com/rishisankineni/text-similarity/downloads/test.csv\"\n",
    "SETTINGS = load_settings()"
   ]
  },
  {
   "cell_type": "code",
   "execution_count": 16,
   "metadata": {},
   "outputs": [],
   "source": [
    "def splitkeepsep(s, sep):\n",
    "    return reduce(lambda acc, elem: acc[:-1] + [acc[-1] + elem] if elem == sep else acc + [elem], re.split(\"(%s)\" % re.escape(sep), s), [])"
   ]
  },
  {
   "cell_type": "code",
   "execution_count": 18,
   "metadata": {},
   "outputs": [
    {
     "name": "stdout",
     "output_type": "stream",
     "text": [
      "Login to Kaggle\n",
      "Getting dataset\n"
     ]
    }
   ],
   "source": [
    "kaggle = Kaggle(SETTINGS)\n",
    "response = kaggle.get_data(DATA_URL)"
   ]
  },
  {
   "cell_type": "code",
   "execution_count": null,
   "metadata": {},
   "outputs": [],
   "source": [
    "archive_output = response.content\n",
    "archive = zipfile.ZipFile(BytesIO(archive_output), 'r')\n",
    "kaggle_data = kaggle.to_array(splitkeepsep(archive.read('data job posts.csv'), '\\r\\n'))"
   ]
  },
  {
   "cell_type": "code",
   "execution_count": 12,
   "metadata": {},
   "outputs": [
    {
     "name": "stdout",
     "output_type": "stream",
     "text": [
      "JOB TITLE:  Chief Financial Officer\n"
     ]
    }
   ],
   "source": [
    "'''\n",
    "Extract the following fields from the jobpost column:\n",
    "1. Job Title\n",
    "2. Position Duration\n",
    "3. Position Location\n",
    "4. Job Description\n",
    "5. Job Responsibilities\n",
    "6. Required Qualifications\n",
    "7. Remuneration\n",
    "8. Application Deadline\n",
    "9. About Company\n",
    "'''\n",
    "\n",
    "#Jobpost = []\n",
    "#for i, item in enumerate(kaggle_data):\n",
    "#    if i == 0:\n",
    "#        Jobpost.append(item)\n",
    "#        continue\n",
    "#    data = item[0]\n",
    "#    print(data)\n",
    "#    break\n",
    "#    item.append(data)\n",
    "#    Jobpost.append(item)\n",
    "\n",
    "print(archive.read('data job posts.csv').splitlines()[2])"
   ]
  },
  {
   "cell_type": "code",
   "execution_count": null,
   "metadata": {},
   "outputs": [],
   "source": [
    "# Convert to dataframme\n",
    "fullData = pd.DataFrame(data=np_transpose_data[1:, 1:].astype(np.float), index=np_transpose_data[1:,0], columns=np_transpose_data[0,1:])"
   ]
  },
  {
   "cell_type": "code",
   "execution_count": null,
   "metadata": {},
   "outputs": [],
   "source": [
    "# Median for all product\n",
    "median_data = fullData.median()\n",
    "print(median_data)"
   ]
  },
  {
   "cell_type": "code",
   "execution_count": null,
   "metadata": {},
   "outputs": [],
   "source": [
    "# Mean for all product\n",
    "mean_data = fullData.mean()\n",
    "print(mean_data)"
   ]
  },
  {
   "cell_type": "code",
   "execution_count": null,
   "metadata": {},
   "outputs": [],
   "source": [
    "# Min for all product\n",
    "min_data = fullData.min()\n",
    "print(min_data)"
   ]
  },
  {
   "cell_type": "code",
   "execution_count": null,
   "metadata": {},
   "outputs": [],
   "source": [
    "# Max for all product\n",
    "max_data = fullData.max()\n",
    "print(max_data)"
   ]
  },
  {
   "cell_type": "code",
   "execution_count": null,
   "metadata": {},
   "outputs": [],
   "source": [
    "# Best product based on volume\n",
    "sum_of_product = fullData.sum()\n",
    "index_array, = np.where(sum_of_product == sum_of_product.max())\n",
    "best_product = (fullData.columns[index_array[0]], sum_of_product.max())\n",
    "print(best_product)"
   ]
  },
  {
   "cell_type": "code",
   "execution_count": null,
   "metadata": {},
   "outputs": [],
   "source": [
    "# Most promising product\n",
    "split_weekly = chunk(fullData, 1)\n",
    "top_20_every_week = [x.sum().nlargest(20) for x in split_weekly]\n",
    "top_20_last_3_week = top_20_every_week[-10:]"
   ]
  },
  {
   "cell_type": "code",
   "execution_count": null,
   "metadata": {},
   "outputs": [],
   "source": [
    "joined_group = pd.concat(top_20_last_3_week)\n",
    "resetted = joined_group.reset_index()\n",
    "resetted['count'] = 1\n",
    "most_promising_product = resetted.groupby('index').agg({0:'sum', 'count': 'count'}).rename(columns={0:'sum'}).nlargest(10, 'count')\n",
    "print(most_promising_product)"
   ]
  },
  {
   "cell_type": "code",
   "execution_count": null,
   "metadata": {},
   "outputs": [],
   "source": [
    "# 5 worst performing product on a biweekly basis\n",
    "grouped = chunk(fullData, 2)\n",
    "sum_grouped = [i.sum() for i in grouped]\n",
    "worst_5_product_biweekly = [('Biweekly {}'.format(i+1), x.nsmallest(5)) for i, x in enumerate(sum_grouped)]\n",
    "print(worst_5_product_biweekly)"
   ]
  },
  {
   "cell_type": "code",
   "execution_count": null,
   "metadata": {},
   "outputs": [],
   "source": [
    "# Get outliers for every product\n",
    "outliers = fullData[~(np.abs(fullData - fullData.mean())<=(3*fullData.std()))]\n",
    "print(outliers)"
   ]
  },
  {
   "cell_type": "code",
   "execution_count": null,
   "metadata": {},
   "outputs": [],
   "source": []
  }
 ],
 "metadata": {
  "kernelspec": {
   "display_name": "Python 2",
   "language": "python",
   "name": "python2"
  },
  "language_info": {
   "codemirror_mode": {
    "name": "ipython",
    "version": 2
   },
   "file_extension": ".py",
   "mimetype": "text/x-python",
   "name": "python",
   "nbconvert_exporter": "python",
   "pygments_lexer": "ipython2",
   "version": "2.7.14"
  }
 },
 "nbformat": 4,
 "nbformat_minor": 2
}
